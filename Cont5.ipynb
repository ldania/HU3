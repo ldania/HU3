{
  "nbformat": 4,
  "nbformat_minor": 0,
  "metadata": {
    "colab": {
      "name": "Cont5.ipynb",
      "provenance": [],
      "collapsed_sections": [],
      "include_colab_link": true
    },
    "kernelspec": {
      "name": "python3",
      "display_name": "Python 3"
    },
    "language_info": {
      "name": "python"
    }
  },
  "cells": [
    {
      "cell_type": "markdown",
      "metadata": {
        "id": "view-in-github",
        "colab_type": "text"
      },
      "source": [
        "<a href=\"https://colab.research.google.com/github/ldania/HU3/blob/master/Cont5.ipynb\" target=\"_parent\"><img src=\"https://colab.research.google.com/assets/colab-badge.svg\" alt=\"Open In Colab\"/></a>"
      ]
    },
    {
      "cell_type": "code",
      "metadata": {
        "id": "E1Z0GHjJHhwr"
      },
      "source": [
        "import os\n",
        "import numpy as np\n",
        "import math\n",
        "import sympy as sp\n",
        "from numpy.linalg import eig\n",
        "\n",
        "\n",
        "\n",
        "Ka = sp.Matrix ([[1,0,-1,0],\n",
        "                 [0,0,0,0],\n",
        "                 [-1,0,1,0],\n",
        "                 [0,0,0,0]\n",
        "                 ])\n",
        "Kb = 1/2* sp.Matrix ([[1,1,-1,-1],\n",
        "                 [1,1,-1,-1],\n",
        "                 [-1,-1,1,1],\n",
        "                 [-1,-1,1,1]\n",
        "                 ])\n",
        "Kc = sp.Matrix ([[0,0,0,0],\n",
        "                 [0,1,0,-1],\n",
        "                 [0,0,0,0],\n",
        "                 [0,1,0,-1]\n",
        "                 ])\n",
        "\n",
        "Kd =1/2* sp.Matrix ([[1,-1,1,-1],\n",
        "                 [-1,1,-1,1],\n",
        "                 [1,-1,1,-1],\n",
        "                 [-1,1,-1,1]\n",
        "                 ])\n",
        "C1 = sp.Symbol('C_1')\n",
        "C2 = sp.Symbol('C_2')\n",
        "C3 = sp.Symbol('C_3')\n",
        "C4 = sp.Symbol('C_4')\n",
        "C5 = sp.Symbol('C_5')\n",
        "C6 = sp.Symbol('C_6')\n",
        "C7 = sp.Symbol('C_7')\n",
        "C8 = sp.Symbol('C_8')\n",
        "C9 = sp.Symbol('C_9')\n",
        "\n",
        "\n",
        "F1x = sp.Symbol('F_1x')\n",
        "F1y = sp.Symbol('F_1y')\n",
        "F2x = sp.Symbol('F_2x')\n",
        "F2y = sp.Symbol('F_2y')\n",
        "F3x = sp.Symbol('F_3x')\n",
        "F3y = sp.Symbol('F_3y')\n",
        "F4x = sp.Symbol('F_4x')\n",
        "F4y = sp.Symbol('F_4y')\n",
        "F6x = sp.Symbol('F_6x')\n",
        "F6y = sp.Symbol('F_6y')\n",
        "\n",
        "\n",
        "u1x = sp.Symbol('u_1x')\n",
        "u1y = sp.Symbol('u_1y')\n",
        "u2x = sp.Symbol('u_2x')\n",
        "u2y = sp.Symbol('u_2y')\n",
        "u3x = sp.Symbol('u_3x')\n",
        "u3y = sp.Symbol('u_3y')\n",
        "u4x = sp.Symbol('u_4x')\n",
        "u4y = sp.Symbol('u_4y')\n",
        "u6x = sp.Symbol('u_6x')\n",
        "u6y = sp.Symbol('u_6y')\n",
        "\n",
        "H = sp.Symbol('H')\n",
        "\n",
        "f_c = [H, 0]\n",
        "d0 = [u1x, u1y, u2x, u2y, u3x, u3y, u4x, u4y, u6x, u6y]\n",
        "\n",
        "\n",
        "\n",
        "items = [[1,1,2,Ka*C1],\n",
        "         [2,1,3,Kb*C2],\n",
        "         [3,2,3,Kc*C3],\n",
        "         [4,2,4,Ka*C4],\n",
        "         [5,3,4,Kd*C5],\n",
        "         [6,3,5,Ka*C6],\n",
        "         [7,4,5,Kc*C7],\n",
        "         [8,4,6,Ka*C8],\n",
        "         [9,5,6,Kd*C9]]\n",
        "\n",
        "\n"
      ],
      "execution_count": 142,
      "outputs": []
    },
    {
      "cell_type": "code",
      "metadata": {
        "id": "SgTSGdSPID4W",
        "colab": {
          "base_uri": "https://localhost:8080/"
        },
        "outputId": "93598137-5186-46c1-95b2-3c8943ab2c9a"
      },
      "source": [
        "Ksystem = sp.zeros(12,12)\n",
        "j=0\n",
        "for i in items:\n",
        "  #print(i[3].shape)\n",
        "  #print(Ksystem[1])\n",
        "\n",
        "  Ksystem[(i[1]-1)*2*12+(i[1]-1)*2] += i[3][0]\n",
        "  Ksystem[(i[1]-1)*2*12+(i[1]-1)*2+1] += i[3][1]\n",
        "  Ksystem[(i[1]-1)*2*12+(i[2]-1)*2] += i[3] [2]\n",
        "  Ksystem[(i[1]-1)*2*12+(i[2]-1)*2+1] += i[3] [3]\n",
        "  Ksystem[(i[1]-1)*2*12+(i[1]-1)*2+12] += i[3] [4]\n",
        "  Ksystem[(i[1]-1)*2*12+(i[1]-1)*2+13] += i[3] [5]\n",
        "  Ksystem[(i[1]-1)*2*12+(i[2]-1)*2+12] += i[3] [6]\n",
        "  Ksystem[(i[1]-1)*2*12+(i[2]-1)*2+13] += i[3] [7]\n",
        "\n",
        "  Ksystem[(i[2]-1)*2*12+(i[1]-1)*2] += i[3][8]\n",
        "  Ksystem[(i[2]-1)*2*12+(i[1]-1)*2+1] += i[3][9]\n",
        "  Ksystem[(i[2]-1)*2*12+(i[2]-1)*2] += i[3] [10]\n",
        "  Ksystem[(i[2]-1)*2*12+(i[2]-1)*2+1] += i[3] [11]\n",
        "  Ksystem[(i[2]-1)*2*12+(i[1]-1)*2+12] += i[3] [12]\n",
        "  Ksystem[(i[2]-1)*2*12+(i[1]-1)*2+13] += i[3] [13]\n",
        "  Ksystem[(i[2]-1)*2*12+(i[2]-1)*2+12] += i[3] [14]\n",
        "  Ksystem[(i[2]-1)*2*12+(i[2]-1)*2+13] += i[3] [15]\n",
        "\n",
        "for k in range(0, Ksystem.rows):\n",
        "  print(Ksystem.row(k))\n",
        "\n",
        "string = \"\"\n",
        "for i in range(0, Ksystem.rows):\n",
        "  \n",
        "  for j in range(0,Ksystem.cols):\n",
        "    string += str(Ksystem[i*12+j]) \n",
        "    string += \" & \"\n",
        "  string=string[0:len(string)-2]\n",
        "  string+= \"\\\\\\\\\"\n",
        "  string+= \"\\n\"\n",
        "  \n",
        "print(string)\n",
        "\n",
        "\n"
      ],
      "execution_count": 3,
      "outputs": [
        {
          "output_type": "stream",
          "name": "stdout",
          "text": [
            "Matrix([[C_1 + 0.5*C_2, 0.5*C_2, -C_1, 0, -0.5*C_2, -0.5*C_2, 0, 0, 0, 0, 0, 0]])\n",
            "Matrix([[0.5*C_2, 0.5*C_2, 0, 0, -0.5*C_2, -0.5*C_2, 0, 0, 0, 0, 0, 0]])\n",
            "Matrix([[-C_1, 0, C_1 + C_4, 0, 0, 0, -C_4, 0, 0, 0, 0, 0]])\n",
            "Matrix([[0, 0, 0, C_3, 0, -C_3, 0, 0, 0, 0, 0, 0]])\n",
            "Matrix([[-0.5*C_2, -0.5*C_2, 0, 0, 0.5*C_2 + 0.5*C_5 + C_6, 0.5*C_2 - 0.5*C_5, 0.5*C_5, -0.5*C_5, -C_6, 0, 0, 0]])\n",
            "Matrix([[-0.5*C_2, -0.5*C_2, 0, C_3, 0.5*C_2 - 0.5*C_5, 0.5*C_2 - C_3 + 0.5*C_5, -0.5*C_5, 0.5*C_5, 0, 0, 0, 0]])\n",
            "Matrix([[0, 0, -C_4, 0, 0.5*C_5, -0.5*C_5, C_4 + 0.5*C_5 + C_8, -0.5*C_5, 0, 0, -C_8, 0]])\n",
            "Matrix([[0, 0, 0, 0, -0.5*C_5, 0.5*C_5, -0.5*C_5, 0.5*C_5 + C_7, 0, -C_7, 0, 0]])\n",
            "Matrix([[0, 0, 0, 0, -C_6, 0, 0, 0, C_6 + 0.5*C_9, -0.5*C_9, 0.5*C_9, -0.5*C_9]])\n",
            "Matrix([[0, 0, 0, 0, 0, 0, 0, C_7, -0.5*C_9, -C_7 + 0.5*C_9, -0.5*C_9, 0.5*C_9]])\n",
            "Matrix([[0, 0, 0, 0, 0, 0, -C_8, 0, 0.5*C_9, -0.5*C_9, C_8 + 0.5*C_9, -0.5*C_9]])\n",
            "Matrix([[0, 0, 0, 0, 0, 0, 0, 0, -0.5*C_9, 0.5*C_9, -0.5*C_9, 0.5*C_9]])\n",
            "C_1 + 0.5*C_2 & 0.5*C_2 & -C_1 & 0 & -0.5*C_2 & -0.5*C_2 & 0 & 0 & 0 & 0 & 0 & 0 \\\\\n",
            "0.5*C_2 & 0.5*C_2 & 0 & 0 & -0.5*C_2 & -0.5*C_2 & 0 & 0 & 0 & 0 & 0 & 0 \\\\\n",
            "-C_1 & 0 & C_1 + C_4 & 0 & 0 & 0 & -C_4 & 0 & 0 & 0 & 0 & 0 \\\\\n",
            "0 & 0 & 0 & C_3 & 0 & -C_3 & 0 & 0 & 0 & 0 & 0 & 0 \\\\\n",
            "-0.5*C_2 & -0.5*C_2 & 0 & 0 & 0.5*C_2 + 0.5*C_5 + C_6 & 0.5*C_2 - 0.5*C_5 & 0.5*C_5 & -0.5*C_5 & -C_6 & 0 & 0 & 0 \\\\\n",
            "-0.5*C_2 & -0.5*C_2 & 0 & C_3 & 0.5*C_2 - 0.5*C_5 & 0.5*C_2 - C_3 + 0.5*C_5 & -0.5*C_5 & 0.5*C_5 & 0 & 0 & 0 & 0 \\\\\n",
            "0 & 0 & -C_4 & 0 & 0.5*C_5 & -0.5*C_5 & C_4 + 0.5*C_5 + C_8 & -0.5*C_5 & 0 & 0 & -C_8 & 0 \\\\\n",
            "0 & 0 & 0 & 0 & -0.5*C_5 & 0.5*C_5 & -0.5*C_5 & 0.5*C_5 + C_7 & 0 & -C_7 & 0 & 0 \\\\\n",
            "0 & 0 & 0 & 0 & -C_6 & 0 & 0 & 0 & C_6 + 0.5*C_9 & -0.5*C_9 & 0.5*C_9 & -0.5*C_9 \\\\\n",
            "0 & 0 & 0 & 0 & 0 & 0 & 0 & C_7 & -0.5*C_9 & -C_7 + 0.5*C_9 & -0.5*C_9 & 0.5*C_9 \\\\\n",
            "0 & 0 & 0 & 0 & 0 & 0 & -C_8 & 0 & 0.5*C_9 & -0.5*C_9 & C_8 + 0.5*C_9 & -0.5*C_9 \\\\\n",
            "0 & 0 & 0 & 0 & 0 & 0 & 0 & 0 & -0.5*C_9 & 0.5*C_9 & -0.5*C_9 & 0.5*C_9 \\\\\n",
            "\n"
          ]
        }
      ]
    },
    {
      "cell_type": "code",
      "metadata": {
        "colab": {
          "base_uri": "https://localhost:8080/"
        },
        "id": "thgn66cDcVok",
        "outputId": "e2a158aa-36c0-470a-c71d-e9b0ef22bf5c"
      },
      "source": [
        "K_cc = Ksystem[8:10,8:10]\n",
        "print(K_cc)"
      ],
      "execution_count": 129,
      "outputs": [
        {
          "output_type": "stream",
          "name": "stdout",
          "text": [
            "Matrix([[C_6 + 0.5*C_9, -0.5*C_9], [-0.5*C_9, -C_7 + 0.5*C_9]])\n"
          ]
        }
      ]
    },
    {
      "cell_type": "code",
      "metadata": {
        "id": "rJL2QCcRcdUt"
      },
      "source": [
        "K_co1 = Ksystem[0:9,:]\n",
        "K_co2 = Ksystem[10:12,:]\n",
        "##K_co.append(Ksystem[11:12,:])\n"
      ],
      "execution_count": 42,
      "outputs": []
    },
    {
      "cell_type": "code",
      "metadata": {
        "colab": {
          "base_uri": "https://localhost:8080/"
        },
        "id": "b2m3dBt5cp40",
        "outputId": "6238c35a-641b-499e-8136-c7552f465257"
      },
      "source": [
        "\n",
        "for k in range(0, K_co.rows):\n",
        "  print(K_co.row(k))\n",
        "  print(len(K_co.row(k)))"
      ],
      "execution_count": 43,
      "outputs": [
        {
          "output_type": "stream",
          "name": "stdout",
          "text": [
            "Matrix([[C_1 + 0.5*C_2, 0.5*C_2, -C_1, 0, -0.5*C_2, -0.5*C_2, 0, 0]])\n",
            "8\n",
            "Matrix([[0.5*C_2, 0.5*C_2, 0, 0, -0.5*C_2, -0.5*C_2, 0, 0]])\n",
            "8\n",
            "Matrix([[-C_1, 0, C_1 + C_4, 0, 0, 0, -C_4, 0]])\n",
            "8\n",
            "Matrix([[0, 0, 0, C_3, 0, -C_3, 0, 0]])\n",
            "8\n",
            "Matrix([[-0.5*C_2, -0.5*C_2, 0, 0, 0.5*C_2 + 0.5*C_5 + C_6, 0.5*C_2 - 0.5*C_5, 0.5*C_5, -0.5*C_5]])\n",
            "8\n",
            "Matrix([[-0.5*C_2, -0.5*C_2, 0, C_3, 0.5*C_2 - 0.5*C_5, 0.5*C_2 - C_3 + 0.5*C_5, -0.5*C_5, 0.5*C_5]])\n",
            "8\n",
            "Matrix([[0, 0, -C_4, 0, 0.5*C_5, -0.5*C_5, C_4 + 0.5*C_5 + C_8, -0.5*C_5]])\n",
            "8\n",
            "Matrix([[0, 0, 0, 0, -0.5*C_5, 0.5*C_5, -0.5*C_5, 0.5*C_5 + C_7]])\n",
            "8\n"
          ]
        }
      ]
    },
    {
      "cell_type": "code",
      "metadata": {
        "id": "FUrR7VWqcsXO",
        "colab": {
          "base_uri": "https://localhost:8080/"
        },
        "outputId": "01f822db-551b-4fbc-8bf6-affcf9926d78"
      },
      "source": [
        "\n",
        "for k in range(0, K_co2.rows):\n",
        "  print(K_co2.row(k))\n",
        "  print(len(K_co2.row(k)))"
      ],
      "execution_count": 38,
      "outputs": [
        {
          "output_type": "stream",
          "name": "stdout",
          "text": [
            "Matrix([[0, 0, 0, 0, 0, 0, -C_8, 0, 0.5*C_9, -0.5*C_9, C_8 + 0.5*C_9, -0.5*C_9]])\n",
            "12\n",
            "Matrix([[0, 0, 0, 0, 0, 0, 0, 0, -0.5*C_9, 0.5*C_9, -0.5*C_9, 0.5*C_9]])\n",
            "12\n"
          ]
        }
      ]
    },
    {
      "cell_type": "code",
      "metadata": {
        "colab": {
          "base_uri": "https://localhost:8080/"
        },
        "id": "_zfCRLuQ8XcL",
        "outputId": "42f27aa4-d500-4405-b0aa-5fd1ea5a0790"
      },
      "source": [
        "K_c01 = np.concatenate((Ksystem[:,0:8], Ksystem[:, 10:12]), axis=1)\n",
        "print(K_c01)"
      ],
      "execution_count": 66,
      "outputs": [
        {
          "output_type": "stream",
          "name": "stdout",
          "text": [
            "[[C_1 + 0.5*C_2 0.5*C_2 -C_1 0 -0.5*C_2 -0.5*C_2 0 0 0 0]\n",
            " [0.5*C_2 0.5*C_2 0 0 -0.5*C_2 -0.5*C_2 0 0 0 0]\n",
            " [-C_1 0 C_1 + C_4 0 0 0 -C_4 0 0 0]\n",
            " [0 0 0 C_3 0 -C_3 0 0 0 0]\n",
            " [-0.5*C_2 -0.5*C_2 0 0 0.5*C_2 + 0.5*C_5 + C_6 0.5*C_2 - 0.5*C_5 0.5*C_5\n",
            "  -0.5*C_5 0 0]\n",
            " [-0.5*C_2 -0.5*C_2 0 C_3 0.5*C_2 - 0.5*C_5 0.5*C_2 - C_3 + 0.5*C_5\n",
            "  -0.5*C_5 0.5*C_5 0 0]\n",
            " [0 0 -C_4 0 0.5*C_5 -0.5*C_5 C_4 + 0.5*C_5 + C_8 -0.5*C_5 -C_8 0]\n",
            " [0 0 0 0 -0.5*C_5 0.5*C_5 -0.5*C_5 0.5*C_5 + C_7 0 0]\n",
            " [0 0 0 0 -C_6 0 0 0 0.5*C_9 -0.5*C_9]\n",
            " [0 0 0 0 0 0 0 C_7 -0.5*C_9 0.5*C_9]\n",
            " [0 0 0 0 0 0 -C_8 0 C_8 + 0.5*C_9 -0.5*C_9]\n",
            " [0 0 0 0 0 0 0 0 -0.5*C_9 0.5*C_9]]\n"
          ]
        }
      ]
    },
    {
      "cell_type": "code",
      "metadata": {
        "id": "yBZRbHliCLdM"
      },
      "source": [
        "K_c01.shape\n",
        "\n",
        "\n",
        "K_oo = np.concatenate((K_c01[0:8, :], K_c01[10:12, :]), axis = 0)"
      ],
      "execution_count": 75,
      "outputs": []
    },
    {
      "cell_type": "code",
      "metadata": {
        "colab": {
          "base_uri": "https://localhost:8080/"
        },
        "id": "Wsn-nunaC9uD",
        "outputId": "41ba19e6-0249-48ef-ae4a-c4912f370c57"
      },
      "source": [
        "K_oo"
      ],
      "execution_count": 77,
      "outputs": [
        {
          "output_type": "execute_result",
          "data": {
            "text/plain": [
              "array([[C_1 + 0.5*C_2, 0.5*C_2, -C_1, 0, -0.5*C_2, -0.5*C_2, 0, 0, 0, 0],\n",
              "       [0.5*C_2, 0.5*C_2, 0, 0, -0.5*C_2, -0.5*C_2, 0, 0, 0, 0],\n",
              "       [-C_1, 0, C_1 + C_4, 0, 0, 0, -C_4, 0, 0, 0],\n",
              "       [0, 0, 0, C_3, 0, -C_3, 0, 0, 0, 0],\n",
              "       [-0.5*C_2, -0.5*C_2, 0, 0, 0.5*C_2 + 0.5*C_5 + C_6,\n",
              "        0.5*C_2 - 0.5*C_5, 0.5*C_5, -0.5*C_5, 0, 0],\n",
              "       [-0.5*C_2, -0.5*C_2, 0, C_3, 0.5*C_2 - 0.5*C_5,\n",
              "        0.5*C_2 - C_3 + 0.5*C_5, -0.5*C_5, 0.5*C_5, 0, 0],\n",
              "       [0, 0, -C_4, 0, 0.5*C_5, -0.5*C_5, C_4 + 0.5*C_5 + C_8, -0.5*C_5,\n",
              "        -C_8, 0],\n",
              "       [0, 0, 0, 0, -0.5*C_5, 0.5*C_5, -0.5*C_5, 0.5*C_5 + C_7, 0, 0],\n",
              "       [0, 0, 0, 0, 0, 0, -C_8, 0, C_8 + 0.5*C_9, -0.5*C_9],\n",
              "       [0, 0, 0, 0, 0, 0, 0, 0, -0.5*C_9, 0.5*C_9]], dtype=object)"
            ]
          },
          "metadata": {},
          "execution_count": 77
        }
      ]
    },
    {
      "cell_type": "code",
      "metadata": {
        "colab": {
          "base_uri": "https://localhost:8080/"
        },
        "id": "TVDJrSZjDARp",
        "outputId": "8761ed3a-0f44-461d-d4ca-f1ad538354a6"
      },
      "source": [
        ""
      ],
      "execution_count": 65,
      "outputs": [
        {
          "output_type": "execute_result",
          "data": {
            "text/plain": [
              "(12, 9)"
            ]
          },
          "metadata": {},
          "execution_count": 65
        }
      ]
    },
    {
      "cell_type": "code",
      "metadata": {
        "colab": {
          "base_uri": "https://localhost:8080/",
          "height": 37
        },
        "id": "L93i9WEIFwks",
        "outputId": "a0376ab6-2e87-4550-8996-471195b07f80"
      },
      "source": [
        "sum(Ksystem)\n",
        "\n",
        "\n"
      ],
      "execution_count": 78,
      "outputs": [
        {
          "output_type": "execute_result",
          "data": {
            "text/latex": "$\\displaystyle 0$",
            "text/plain": [
              "0"
            ]
          },
          "metadata": {},
          "execution_count": 78
        }
      ]
    },
    {
      "cell_type": "code",
      "metadata": {
        "id": "kz-Oox1VGNQq"
      },
      "source": [
        "Kco1 =  Ksystem[8:10,:]\n",
        "Kco = np.concatenate((Kco1[:,0:8], Kco1[:,10:]),axis=1)\n",
        "Koc = np.transpose(Kco)"
      ],
      "execution_count": 121,
      "outputs": []
    },
    {
      "cell_type": "code",
      "metadata": {
        "colab": {
          "base_uri": "https://localhost:8080/"
        },
        "id": "uIZgZXjzHuKE",
        "outputId": "a6878ad9-ff5b-42bb-d21c-19196b58d278"
      },
      "source": [
        "print(Kco.shape)"
      ],
      "execution_count": 122,
      "outputs": [
        {
          "output_type": "stream",
          "name": "stdout",
          "text": [
            "(2, 10)\n"
          ]
        }
      ]
    },
    {
      "cell_type": "code",
      "metadata": {
        "colab": {
          "base_uri": "https://localhost:8080/"
        },
        "id": "Q63dwQrFGtta",
        "outputId": "cc9b7e86-f101-499a-882c-37c3d2594718"
      },
      "source": [
        "print(Koc.shape)\n"
      ],
      "execution_count": 123,
      "outputs": [
        {
          "output_type": "stream",
          "name": "stdout",
          "text": [
            "(10, 2)\n"
          ]
        }
      ]
    },
    {
      "cell_type": "code",
      "metadata": {
        "colab": {
          "base_uri": "https://localhost:8080/"
        },
        "id": "1Vbm5VbzIpl8",
        "outputId": "321180ce-9a22-45ff-ad64-d828e397e78a"
      },
      "source": [
        "Kco[0:7,:].shape"
      ],
      "execution_count": 102,
      "outputs": [
        {
          "output_type": "execute_result",
          "data": {
            "text/plain": [
              "(2, 12)"
            ]
          },
          "metadata": {},
          "execution_count": 102
        }
      ]
    },
    {
      "cell_type": "code",
      "metadata": {
        "colab": {
          "base_uri": "https://localhost:8080/"
        },
        "id": "EKEkgocbIzj9",
        "outputId": "594ab2d4-de5b-42a1-cc38-e50dad74c494"
      },
      "source": [
        " Ksystem[8:10,:].shape"
      ],
      "execution_count": 104,
      "outputs": [
        {
          "output_type": "execute_result",
          "data": {
            "text/plain": [
              "(2, 12)"
            ]
          },
          "metadata": {},
          "execution_count": 104
        }
      ]
    },
    {
      "cell_type": "code",
      "metadata": {
        "colab": {
          "base_uri": "https://localhost:8080/",
          "height": 57
        },
        "id": "HhCVGZumI-AX",
        "outputId": "9e56c69c-0f2c-43e5-89e9-a808a4e10af8"
      },
      "source": [
        "Kco[:,0:8]"
      ],
      "execution_count": 111,
      "outputs": [
        {
          "output_type": "execute_result",
          "data": {
            "text/latex": "$\\displaystyle \\left[\\begin{matrix}0 & 0 & 0 & 0 & - C_{6} & 0 & 0 & 0\\\\0 & 0 & 0 & 0 & 0 & 0 & 0 & C_{7}\\end{matrix}\\right]$",
            "text/plain": [
              "Matrix([\n",
              "[0, 0, 0, 0, -C_6, 0, 0,   0],\n",
              "[0, 0, 0, 0,    0, 0, 0, C_7]])"
            ]
          },
          "metadata": {},
          "execution_count": 111
        }
      ]
    },
    {
      "cell_type": "code",
      "metadata": {
        "colab": {
          "base_uri": "https://localhost:8080/",
          "height": 57
        },
        "id": "WRdqFWrkJLUg",
        "outputId": "d06efdee-661f-4277-8f07-303f846617ae"
      },
      "source": [
        "Kco[:,10:]"
      ],
      "execution_count": 110,
      "outputs": [
        {
          "output_type": "execute_result",
          "data": {
            "text/latex": "$\\displaystyle \\left[\\begin{matrix}0.5 C_{9} & - 0.5 C_{9}\\\\- 0.5 C_{9} & 0.5 C_{9}\\end{matrix}\\right]$",
            "text/plain": [
              "Matrix([\n",
              "[ 0.5*C_9, -0.5*C_9],\n",
              "[-0.5*C_9,  0.5*C_9]])"
            ]
          },
          "metadata": {},
          "execution_count": 110
        }
      ]
    },
    {
      "cell_type": "code",
      "metadata": {
        "id": "WcEm9sR8JwNZ"
      },
      "source": [
        "Kco = np.concatenate((Kco[:,0:8], Kco[:,10:]),axis=1)"
      ],
      "execution_count": 113,
      "outputs": []
    },
    {
      "cell_type": "code",
      "metadata": {
        "colab": {
          "base_uri": "https://localhost:8080/"
        },
        "id": "Zv3GBqpEJ55w",
        "outputId": "43e35412-9c9d-49ec-8c46-52bb8db11d1c"
      },
      "source": [
        ""
      ],
      "execution_count": 115,
      "outputs": [
        {
          "output_type": "stream",
          "name": "stdout",
          "text": [
            "[[0 0 0 0 -C_6 0 0 0 0.5*C_9 -0.5*C_9]\n",
            " [0 0 0 0 0 0 0 C_7 -0.5*C_9 0.5*C_9]]\n"
          ]
        },
        {
          "output_type": "execute_result",
          "data": {
            "text/plain": [
              "(2, 10)"
            ]
          },
          "metadata": {},
          "execution_count": 115
        }
      ]
    },
    {
      "cell_type": "code",
      "metadata": {
        "id": "0n7wDbjQL3r5"
      },
      "source": [
        "MK_cc = sp.Matrix(K_cc)\n",
        "dc = np.dot(MK_cc.inv(), f_c - np.dot(Kco,d0))"
      ],
      "execution_count": 144,
      "outputs": []
    },
    {
      "cell_type": "code",
      "metadata": {
        "id": "envQY5fqM_yo",
        "outputId": "0d1b1802-14d9-421f-aca3-1140e136a1ff",
        "colab": {
          "base_uri": "https://localhost:8080/"
        }
      },
      "source": [
        "print(dc.shape)"
      ],
      "execution_count": 145,
      "outputs": [
        {
          "output_type": "stream",
          "name": "stdout",
          "text": [
            "(2,)\n"
          ]
        }
      ]
    },
    {
      "cell_type": "code",
      "metadata": {
        "id": "jCCmyjwtNL5F",
        "outputId": "468fe44d-77f4-4e74-92ff-e9b4c6cbc690",
        "colab": {
          "base_uri": "https://localhost:8080/",
          "height": 55
        }
      },
      "source": [
        "dc[0]"
      ],
      "execution_count": 146,
      "outputs": [
        {
          "output_type": "execute_result",
          "data": {
            "text/latex": "$\\displaystyle - \\frac{0.5 C_{9} \\left(- C_{7} u_{4y} + 0.5 C_{9} u_{6x} - 0.5 C_{9} u_{6y}\\right)}{1.0 C_{6} C_{7} - 0.5 C_{6} C_{9} + 0.5 C_{7} C_{9}} + \\frac{\\left(1.0 C_{7} - 0.5 C_{9}\\right) \\left(C_{6} u_{3x} - 0.5 C_{9} u_{6x} + 0.5 C_{9} u_{6y} + H\\right)}{1.0 C_{6} C_{7} - 0.5 C_{6} C_{9} + 0.5 C_{7} C_{9}}$",
            "text/plain": [
              "-0.5*C_9*(-C_7*u_4y + 0.5*C_9*u_6x - 0.5*C_9*u_6y)/(1.0*C_6*C_7 - 0.5*C_6*C_9 + 0.5*C_7*C_9) + (1.0*C_7 - 0.5*C_9)*(C_6*u_3x - 0.5*C_9*u_6x + 0.5*C_9*u_6y + H)/(1.0*C_6*C_7 - 0.5*C_6*C_9 + 0.5*C_7*C_9)"
            ]
          },
          "metadata": {},
          "execution_count": 146
        }
      ]
    },
    {
      "cell_type": "code",
      "metadata": {
        "id": "jTK7ZNOjNlKS"
      },
      "source": [
        "MK_cc = sp.Matrix(K_cc)"
      ],
      "execution_count": 134,
      "outputs": []
    },
    {
      "cell_type": "code",
      "metadata": {
        "id": "8K8S24K3Np6D",
        "outputId": "139257d6-615c-45e9-8c35-ba9a69a2a07c",
        "colab": {
          "base_uri": "https://localhost:8080/",
          "height": 68
        }
      },
      "source": [
        "MK_cc.inv()"
      ],
      "execution_count": 139,
      "outputs": [
        {
          "output_type": "execute_result",
          "data": {
            "text/latex": "$\\displaystyle \\left[\\begin{matrix}\\frac{1.0 C_{7} - 0.5 C_{9}}{1.0 C_{6} C_{7} - 0.5 C_{6} C_{9} + 0.5 C_{7} C_{9}} & - \\frac{0.5 C_{9}}{1.0 C_{6} C_{7} - 0.5 C_{6} C_{9} + 0.5 C_{7} C_{9}}\\\\- \\frac{0.5 C_{9}}{1.0 C_{6} C_{7} - 0.5 C_{6} C_{9} + 0.5 C_{7} C_{9}} & \\frac{- 1.0 C_{6} - 0.5 C_{9}}{1.0 C_{6} C_{7} - 0.5 C_{6} C_{9} + 0.5 C_{7} C_{9}}\\end{matrix}\\right]$",
            "text/plain": [
              "Matrix([\n",
              "[(1.0*C_7 - 0.5*C_9)/(1.0*C_6*C_7 - 0.5*C_6*C_9 + 0.5*C_7*C_9),             -0.5*C_9/(1.0*C_6*C_7 - 0.5*C_6*C_9 + 0.5*C_7*C_9)],\n",
              "[           -0.5*C_9/(1.0*C_6*C_7 - 0.5*C_6*C_9 + 0.5*C_7*C_9), (-1.0*C_6 - 0.5*C_9)/(1.0*C_6*C_7 - 0.5*C_6*C_9 + 0.5*C_7*C_9)]])"
            ]
          },
          "metadata": {},
          "execution_count": 139
        }
      ]
    }
  ]
}